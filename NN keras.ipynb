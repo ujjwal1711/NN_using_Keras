{
 "cells": [
  {
   "cell_type": "code",
   "execution_count": 1,
   "metadata": {},
   "outputs": [
    {
     "name": "stderr",
     "output_type": "stream",
     "text": [
      "/usr/local/lib/python2.7/dist-packages/h5py/__init__.py:36: FutureWarning: Conversion of the second argument of issubdtype from `float` to `np.floating` is deprecated. In future, it will be treated as `np.float64 == np.dtype(float).type`.\n",
      "  from ._conv import register_converters as _register_converters\n",
      "Using TensorFlow backend.\n"
     ]
    }
   ],
   "source": [
    "import tensorflow\n",
    "import pandas as pd\n",
    "import numpy as np\n",
    "from matplotlib import pyplot as plt\n",
    "from keras.layers import Dense,Activation\n",
    "from keras.models import Sequential\n",
    "from keras.utils import np_utils"
   ]
  },
  {
   "cell_type": "code",
   "execution_count": 2,
   "metadata": {},
   "outputs": [
    {
     "name": "stdout",
     "output_type": "stream",
     "text": [
      "(10000, 784) (10000,)\n"
     ]
    }
   ],
   "source": [
    "x = pd.read_csv(\"../class_11/fashion-mnist_test.csv\")\n",
    "X_ = np.array(x)\n",
    "X = X_[:,1:]\n",
    "X = X/255.0\n",
    "y = X_[:,0]\n",
    "print X.shape,y.shape"
   ]
  },
  {
   "cell_type": "code",
   "execution_count": 3,
   "metadata": {},
   "outputs": [
    {
     "data": {
      "text/plain": [
       "(10000, 10)"
      ]
     },
     "execution_count": 3,
     "metadata": {},
     "output_type": "execute_result"
    }
   ],
   "source": [
    "# to convert labels to one hot\n",
    "y = np_utils.to_categorical(y)\n",
    "y.shape"
   ]
  },
  {
   "cell_type": "code",
   "execution_count": 4,
   "metadata": {},
   "outputs": [
    {
     "data": {
      "text/plain": [
       "array([[1., 0., 0., 0., 0., 0., 0., 0., 0., 0.],\n",
       "       [0., 1., 0., 0., 0., 0., 0., 0., 0., 0.],\n",
       "       [0., 0., 1., 0., 0., 0., 0., 0., 0., 0.],\n",
       "       [0., 0., 1., 0., 0., 0., 0., 0., 0., 0.],\n",
       "       [0., 0., 0., 1., 0., 0., 0., 0., 0., 0.],\n",
       "       [0., 0., 1., 0., 0., 0., 0., 0., 0., 0.],\n",
       "       [0., 0., 0., 0., 0., 0., 0., 0., 1., 0.],\n",
       "       [0., 0., 0., 0., 0., 0., 1., 0., 0., 0.],\n",
       "       [0., 0., 0., 0., 0., 1., 0., 0., 0., 0.],\n",
       "       [1., 0., 0., 0., 0., 0., 0., 0., 0., 0.]])"
      ]
     },
     "execution_count": 4,
     "metadata": {},
     "output_type": "execute_result"
    }
   ],
   "source": [
    "y[:10]"
   ]
  },
  {
   "cell_type": "code",
   "execution_count": 5,
   "metadata": {},
   "outputs": [
    {
     "name": "stdout",
     "output_type": "stream",
     "text": [
      "(8000, 784) (8000, 10) (2000, 784) (2000, 10)\n"
     ]
    }
   ],
   "source": [
    "X_train = X[:8000,:]\n",
    "Y_train = y[:8000,:]\n",
    "X_val = X[8000:,:]\n",
    "Y_val = y[8000:,:]\n",
    "\n",
    "print X_train.shape,Y_train.shape,X_val.shape,Y_val.shape"
   ]
  },
  {
   "cell_type": "code",
   "execution_count": 6,
   "metadata": {},
   "outputs": [
    {
     "name": "stdout",
     "output_type": "stream",
     "text": [
      "_________________________________________________________________\n",
      "Layer (type)                 Output Shape              Param #   \n",
      "=================================================================\n",
      "dense_1 (Dense)              (None, 256)               200960    \n",
      "_________________________________________________________________\n",
      "activation_1 (Activation)    (None, 256)               0         \n",
      "_________________________________________________________________\n",
      "dense_2 (Dense)              (None, 64)                16448     \n",
      "_________________________________________________________________\n",
      "activation_2 (Activation)    (None, 64)                0         \n",
      "_________________________________________________________________\n",
      "dense_3 (Dense)              (None, 10)                650       \n",
      "_________________________________________________________________\n",
      "activation_3 (Activation)    (None, 10)                0         \n",
      "=================================================================\n",
      "Total params: 218,058\n",
      "Trainable params: 218,058\n",
      "Non-trainable params: 0\n",
      "_________________________________________________________________\n"
     ]
    }
   ],
   "source": [
    "model = Sequential()\n",
    "model.add(Dense(256, input_shape=(784,)))\n",
    "model.add(Activation('relu'))\n",
    "\n",
    "model.add(Dense(64))\n",
    "model.add(Activation('relu'))\n",
    "\n",
    "model.add(Dense(10))\n",
    "model.add(Activation('softmax'))\n",
    "\n",
    "model.summary()"
   ]
  },
  {
   "cell_type": "code",
   "execution_count": 7,
   "metadata": {},
   "outputs": [],
   "source": [
    "model.compile(optimizer='sgd',loss='categorical_crossentropy',metrics=['accuracy'])"
   ]
  },
  {
   "cell_type": "code",
   "execution_count": 8,
   "metadata": {
    "scrolled": true
   },
   "outputs": [
    {
     "name": "stdout",
     "output_type": "stream",
     "text": [
      "Train on 8000 samples, validate on 2000 samples\n",
      "Epoch 1/50\n",
      " - 1s - loss: 2.1635 - acc: 0.2080 - val_loss: 1.9800 - val_acc: 0.2930\n",
      "Epoch 2/50\n",
      " - 0s - loss: 1.8369 - acc: 0.3762 - val_loss: 1.7028 - val_acc: 0.4935\n",
      "Epoch 3/50\n",
      " - 0s - loss: 1.5875 - acc: 0.5632 - val_loss: 1.4825 - val_acc: 0.6120\n",
      "Epoch 4/50\n",
      " - 0s - loss: 1.3882 - acc: 0.6243 - val_loss: 1.3134 - val_acc: 0.6370\n",
      "Epoch 5/50\n",
      " - 1s - loss: 1.2362 - acc: 0.6458 - val_loss: 1.1750 - val_acc: 0.6515\n",
      "Epoch 6/50\n",
      " - 1s - loss: 1.1224 - acc: 0.6596 - val_loss: 1.0765 - val_acc: 0.6700\n",
      "Epoch 7/50\n",
      " - 0s - loss: 1.0369 - acc: 0.6779 - val_loss: 1.0022 - val_acc: 0.6850\n",
      "Epoch 8/50\n",
      " - 0s - loss: 0.9696 - acc: 0.6949 - val_loss: 0.9387 - val_acc: 0.7030\n",
      "Epoch 9/50\n",
      " - 0s - loss: 0.9155 - acc: 0.7092 - val_loss: 0.8904 - val_acc: 0.7165\n",
      "Epoch 10/50\n",
      " - 0s - loss: 0.8731 - acc: 0.7198 - val_loss: 0.8572 - val_acc: 0.7115\n",
      "Epoch 11/50\n",
      " - 0s - loss: 0.8379 - acc: 0.7285 - val_loss: 0.8199 - val_acc: 0.7230\n",
      "Epoch 12/50\n",
      " - 0s - loss: 0.8087 - acc: 0.7394 - val_loss: 0.7951 - val_acc: 0.7415\n",
      "Epoch 13/50\n",
      " - 0s - loss: 0.7832 - acc: 0.7482 - val_loss: 0.7741 - val_acc: 0.7400\n",
      "Epoch 14/50\n",
      " - 0s - loss: 0.7611 - acc: 0.7535 - val_loss: 0.7447 - val_acc: 0.7470\n",
      "Epoch 15/50\n",
      " - 0s - loss: 0.7410 - acc: 0.7619 - val_loss: 0.7240 - val_acc: 0.7600\n",
      "Epoch 16/50\n",
      " - 0s - loss: 0.7238 - acc: 0.7661 - val_loss: 0.7133 - val_acc: 0.7660\n",
      "Epoch 17/50\n",
      " - 0s - loss: 0.7083 - acc: 0.7720 - val_loss: 0.7046 - val_acc: 0.7730\n",
      "Epoch 18/50\n",
      " - 0s - loss: 0.6944 - acc: 0.7738 - val_loss: 0.6851 - val_acc: 0.7750\n",
      "Epoch 19/50\n",
      " - 0s - loss: 0.6805 - acc: 0.7819 - val_loss: 0.6684 - val_acc: 0.7750\n",
      "Epoch 20/50\n",
      " - 0s - loss: 0.6699 - acc: 0.7844 - val_loss: 0.6619 - val_acc: 0.7835\n",
      "Epoch 21/50\n",
      " - 0s - loss: 0.6590 - acc: 0.7895 - val_loss: 0.6466 - val_acc: 0.7880\n",
      "Epoch 22/50\n",
      " - 0s - loss: 0.6488 - acc: 0.7904 - val_loss: 0.6356 - val_acc: 0.7905\n",
      "Epoch 23/50\n",
      " - 0s - loss: 0.6395 - acc: 0.7960 - val_loss: 0.6311 - val_acc: 0.7875\n",
      "Epoch 24/50\n",
      " - 0s - loss: 0.6309 - acc: 0.7964 - val_loss: 0.6229 - val_acc: 0.7815\n",
      "Epoch 25/50\n",
      " - 0s - loss: 0.6223 - acc: 0.8001 - val_loss: 0.6112 - val_acc: 0.8015\n",
      "Epoch 26/50\n",
      " - 0s - loss: 0.6139 - acc: 0.8025 - val_loss: 0.6018 - val_acc: 0.8050\n",
      "Epoch 27/50\n",
      " - 0s - loss: 0.6081 - acc: 0.8058 - val_loss: 0.6026 - val_acc: 0.7975\n",
      "Epoch 28/50\n",
      " - 0s - loss: 0.6002 - acc: 0.8090 - val_loss: 0.5961 - val_acc: 0.8070\n",
      "Epoch 29/50\n",
      " - 0s - loss: 0.5945 - acc: 0.8079 - val_loss: 0.6082 - val_acc: 0.7975\n",
      "Epoch 30/50\n",
      " - 0s - loss: 0.5893 - acc: 0.8107 - val_loss: 0.5942 - val_acc: 0.8030\n",
      "Epoch 31/50\n",
      " - 0s - loss: 0.5828 - acc: 0.8131 - val_loss: 0.5890 - val_acc: 0.7940\n",
      "Epoch 32/50\n",
      " - 0s - loss: 0.5772 - acc: 0.8140 - val_loss: 0.5705 - val_acc: 0.8135\n",
      "Epoch 33/50\n",
      " - 0s - loss: 0.5713 - acc: 0.8186 - val_loss: 0.5675 - val_acc: 0.8125\n",
      "Epoch 34/50\n",
      " - 0s - loss: 0.5664 - acc: 0.8165 - val_loss: 0.5560 - val_acc: 0.8145\n",
      "Epoch 35/50\n",
      " - 0s - loss: 0.5606 - acc: 0.8186 - val_loss: 0.5654 - val_acc: 0.8150\n",
      "Epoch 36/50\n",
      " - 0s - loss: 0.5572 - acc: 0.8217 - val_loss: 0.5534 - val_acc: 0.8095\n",
      "Epoch 37/50\n",
      " - 0s - loss: 0.5530 - acc: 0.8221 - val_loss: 0.5571 - val_acc: 0.8135\n",
      "Epoch 38/50\n",
      " - 0s - loss: 0.5480 - acc: 0.8234 - val_loss: 0.5570 - val_acc: 0.8025\n",
      "Epoch 39/50\n",
      " - 0s - loss: 0.5433 - acc: 0.8224 - val_loss: 0.5396 - val_acc: 0.8150\n",
      "Epoch 40/50\n",
      " - 0s - loss: 0.5391 - acc: 0.8245 - val_loss: 0.5414 - val_acc: 0.8195\n",
      "Epoch 41/50\n",
      " - 0s - loss: 0.5359 - acc: 0.8254 - val_loss: 0.5361 - val_acc: 0.8165\n",
      "Epoch 42/50\n",
      " - 0s - loss: 0.5338 - acc: 0.8254 - val_loss: 0.5239 - val_acc: 0.8245\n",
      "Epoch 43/50\n",
      " - 0s - loss: 0.5289 - acc: 0.8244 - val_loss: 0.5274 - val_acc: 0.8220\n",
      "Epoch 44/50\n",
      " - 0s - loss: 0.5251 - acc: 0.8287 - val_loss: 0.5349 - val_acc: 0.8160\n",
      "Epoch 45/50\n",
      " - 0s - loss: 0.5223 - acc: 0.8277 - val_loss: 0.5495 - val_acc: 0.8140\n",
      "Epoch 46/50\n",
      " - 0s - loss: 0.5203 - acc: 0.8296 - val_loss: 0.5243 - val_acc: 0.8165\n",
      "Epoch 47/50\n",
      " - 0s - loss: 0.5151 - acc: 0.8301 - val_loss: 0.5227 - val_acc: 0.8205\n",
      "Epoch 48/50\n",
      " - 0s - loss: 0.5129 - acc: 0.8326 - val_loss: 0.5159 - val_acc: 0.8275\n",
      "Epoch 49/50\n",
      " - 0s - loss: 0.5084 - acc: 0.8301 - val_loss: 0.5234 - val_acc: 0.8230\n",
      "Epoch 50/50\n",
      " - 0s - loss: 0.5065 - acc: 0.8340 - val_loss: 0.4997 - val_acc: 0.8335\n"
     ]
    }
   ],
   "source": [
    "hist = model.fit(X_train,Y_train,batch_size=256,epochs=50,verbose=2,validation_data=(X_val,Y_val))"
   ]
  },
  {
   "cell_type": "code",
   "execution_count": 9,
   "metadata": {},
   "outputs": [
    {
     "data": {
      "image/png": "[encoded data removed]",
      "text/plain": [
       "<Figure size 432x288 with 1 Axes>"
      ]
     },
     "metadata": {},
     "output_type": "display_data"
    }
   ],
   "source": [
    "plt.figure(0)\n",
    "plt.plot(hist.history['loss'],'g')\n",
    "plt.plot(hist.history['val_loss'],'b')\n",
    "plt.plot(hist.history['acc'],'r')\n",
    "plt.plot(hist.history['val_acc'],'black')\n",
    "plt.show()"
   ]
  }
 ],
 "metadata": {
  "kernelspec": {
   "display_name": "Python 3",
   "language": "python",
   "name": "python3"
  },
  "language_info": {
   "codemirror_mode": {
    "name": "ipython",
    "version": 2
   },
   "file_extension": ".py",
   "mimetype": "text/x-python",
   "name": "python",
   "nbconvert_exporter": "python",
   "pygments_lexer": "ipython2",
   "version": "2.7.12"
  }
 },
 "nbformat": 4,
 "nbformat_minor": 2
}
